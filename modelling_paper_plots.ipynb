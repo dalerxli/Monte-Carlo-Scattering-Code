{
 "metadata": {
  "name": "",
  "signature": "sha256:f201a622b746d25eeb662475171c87125e2bfcd618ebaf0968c40cc859028577"
 },
 "nbformat": 3,
 "nbformat_minor": 0,
 "worksheets": [
  {
   "cells": [
    {
     "cell_type": "code",
     "collapsed": false,
     "input": [
      "import numpy as np\n",
      "import random\n",
      "from __future__ import print_function\n",
      "import matplotlib.pyplot as plt\n",
      "from scipy import optimize, stats\n",
      "import scipy.interpolate\n",
      "import statsmodels.api as sm\n",
      "from statsmodels.sandbox.regression.predstd import wls_prediction_std\n",
      "import sys\n",
      "from multiprocessing import Pool\n",
      "import pylab\n",
      "import os\n",
      "from matplotlib.colors import LogNorm\n",
      "import itertools\n",
      "%matplotlib inline"
     ],
     "language": "python",
     "metadata": {},
     "outputs": [],
     "prompt_number": 1
    },
    {
     "cell_type": "code",
     "collapsed": false,
     "input": [
      "####coding for my numerical paper to produce nice pots of CII emissivity\n",
      "\n",
      "def extrapolate_emissivity_data(filename, x, y, z, index):\n",
      "    data = np.genfromtxt(filename)\n",
      "    interp_val = scipy.interpolate.interp1d(data[:,0],data[:,index])\n",
      "    radius = np.sqrt(x**2.0 + y**2.0 + z**2.0)\n",
      "    #usage example    print(extrapolate_emissivity_data('data_emissivity_test.dat', x, y, z))\n",
      "    return interp_val(radius)\n",
      "\n",
      "def polar_angle():\n",
      "    return(np.arccos((2.0*random.random()-1.0)))   #2.0*np.pi*random.random()\n",
      "\n",
      "def azimuthial_angle():\n",
      "    return (2.0*np.pi*random.random())\n"
     ],
     "language": "python",
     "metadata": {},
     "outputs": [],
     "prompt_number": 2
    },
    {
     "cell_type": "code",
     "collapsed": false,
     "input": [
      "file = 'data_emissivity_test.dat'\n",
      "data = np.genfromtxt(file)\n",
      "radius_edge = max(data[:,0])\n",
      "for m in np.arange(len(data[0,:])-1)+1:\n",
      "    plt.plot(data[:,0],data[:,m])  \n",
      "plt.savefig('cii_emissivity_profiles.pdf', bbox_inches='tight')\n",
      "\n",
      "\n"
     ],
     "language": "python",
     "metadata": {},
     "outputs": [
      {
       "metadata": {},
       "output_type": "display_data",
       "png": "[encoded data removed]",
       "text": [
        "<matplotlib.figure.Figure at 0x1095be490>"
       ]
      }
     ],
     "prompt_number": 3
    },
    {
     "cell_type": "code",
     "collapsed": false,
     "input": [
      "n_photons = 400000\n",
      "t_max = [0.0]\n",
      "angle_viewed_from = 0.0  #np.pi/2.0\n",
      "counter_to_plot = []\n",
      "theory = []\n",
      "\n",
      "for l in np.arange(len(data[0,:])-1)+1:\n",
      "    for m in t_max:\n",
      "        counter = -1.0\n",
      "        xtwod_projected = [0.0]\n",
      "        ytwod_projected = [0.0]\n",
      "        weights_projected = [(1.0/(4.0*np.pi))*extrapolate_emissivity_data(file, 0.0, 0.0, 0.0, l)]\n",
      "        for k in range(n_photons):\n",
      "            x = 0.0\n",
      "            y = 0.0\n",
      "            z = 0.0\n",
      "            r = np.sqrt(x**2.0 + y**2.0 + z**2.0)\n",
      "            while r >= 0.0 and r < radius_edge :\n",
      "                distance = -np.log(random.random())*radius_edge\n",
      "                theta = polar_angle()\n",
      "                phi = azimuthial_angle()\n",
      "                x = x + distance*np.sin(theta)*np.cos(phi)\n",
      "                y = y + distance*np.sin(theta)*np.sin(phi)\n",
      "                z = z + distance*np.cos(theta)\n",
      "                r = np.sqrt(x**2.0 + y**2.0 + z**2.0) \n",
      "                counter = counter +1.0\n",
      "                if r < radius_edge:\n",
      "                    xtwod_projected.append(x)\n",
      "                    ytwod_projected.append(y)\n",
      "                    weight = (1.0/(4.0*np.pi))*extrapolate_emissivity_data(file, x, y, z, l)\n",
      "                    weights_projected.append(weight)           \n",
      "        print(counter/n_photons)\n",
      "        print(m)\n",
      "        counter_to_plot.append(counter/n_photons)\n",
      "        H, xedges, yedges = np.histogram2d(xtwod_projected,ytwod_projected,bins=500.0, weights=weights_projected)\n",
      "        H = np.rot90(H)\n",
      "        H = np.flipud(H)\n",
      "        Hmasked = np.ma.masked_where(H==0,H) # Mask pixels with a value of zero   \n",
      "        plt.pcolormesh(xedges,yedges,Hmasked, norm=LogNorm(vmin=Hmasked.min().min(), vmax=Hmasked.max().max()))\n",
      "        plt.xlabel('x (r/Rmax)')\n",
      "        plt.ylabel('y (r/Rmax)')\n",
      "        cbar = plt.colorbar()\n",
      "        cbar.ax.set_ylabel('[CII] Emissivity')\n",
      "        #plt.show()\n",
      "        plt.savefig('test_index' + str(l) +'.pdf', bbox_inches='tight')\n",
      "        plt.close()\n",
      "\n"
     ],
     "language": "python",
     "metadata": {},
     "outputs": [
      {
       "output_type": "stream",
       "stream": "stdout",
       "text": [
        "2.39014\n",
        "0.0\n",
        "2.3954175"
       ]
      },
      {
       "output_type": "stream",
       "stream": "stdout",
       "text": [
        "\n",
        "0.0\n"
       ]
      },
      {
       "output_type": "stream",
       "stream": "stderr",
       "text": [
        "/Developer/usr/bin/anaconda/lib/python2.7/site-packages/matplotlib/backends/backend_pdf.py:2264: FutureWarning: comparison to `None` will result in an elementwise object comparison in the future.\n",
        "  different = bool(ours != theirs)\n"
       ]
      }
     ],
     "prompt_number": 4
    },
    {
     "cell_type": "code",
     "collapsed": false,
     "input": [],
     "language": "python",
     "metadata": {},
     "outputs": []
    }
   ],
   "metadata": {}
  }
 ]
}